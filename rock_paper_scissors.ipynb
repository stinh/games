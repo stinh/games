{
  "nbformat": 4,
  "nbformat_minor": 0,
  "metadata": {
    "colab": {
      "name": "rock paper scissors.ipynb",
      "provenance": [],
      "authorship_tag": "ABX9TyOhckIao/enVaCCelVs53zM",
      "include_colab_link": true
    },
    "kernelspec": {
      "name": "python3",
      "display_name": "Python 3"
    },
    "language_info": {
      "name": "python"
    }
  },
  "cells": [
    {
      "cell_type": "markdown",
      "metadata": {
        "id": "view-in-github",
        "colab_type": "text"
      },
      "source": [
        "<a href=\"https://colab.research.google.com/github/stinh/games/blob/main/rock_paper_scissors.ipynb\" target=\"_parent\"><img src=\"https://colab.research.google.com/assets/colab-badge.svg\" alt=\"Open In Colab\"/></a>"
      ]
    },
    {
      "cell_type": "code",
      "execution_count": 1,
      "metadata": {
        "id": "ft7eTiCVUKMz"
      },
      "outputs": [],
      "source": [
        "import random"
      ]
    },
    {
      "cell_type": "code",
      "source": [
        "me = int(input(\"輸入[0]：剪刀\\n輸入[1]：石頭\\n輸入[2]：布\\n請輸入數字代表出拳：\"))\n",
        "com = random.randint(0 ,2)\n",
        "\n",
        "trans = [\"剪刀\",\"石頭\",\"布\"]\n",
        "\n",
        "print(\"我出的拳:\",trans[me],\";\",\"電腦出的拳:\",trans[com])\n",
        "\n",
        "if me == com:\n",
        "  print(\"猜拳結果：平手\")\n",
        "elif me == (com + 1) % 3:\n",
        "  print(\"猜拳結果：我贏了\")\n",
        "else:\n",
        "  print(\"猜拳結果：我輸了\")"
      ],
      "metadata": {
        "colab": {
          "base_uri": "https://localhost:8080/"
        },
        "id": "iGEEhfj7UlYJ",
        "outputId": "e8cf1e41-d67f-4d77-ebae-5204cea8792d"
      },
      "execution_count": 25,
      "outputs": [
        {
          "output_type": "stream",
          "name": "stdout",
          "text": [
            "輸入[0]：剪刀\n",
            "輸入[1]：石頭\n",
            "輸入[2]：布\n",
            "請輸入數字代表出拳：2\n",
            "我出的拳: 布 ; 電腦出的拳: 石頭\n",
            "猜拳結果：我贏了\n"
          ]
        }
      ]
    }
  ]
}
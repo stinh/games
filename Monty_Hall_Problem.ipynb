{
  "nbformat": 4,
  "nbformat_minor": 0,
  "metadata": {
    "colab": {
      "name": "Monty Hall Problem.ipynb",
      "provenance": [],
      "authorship_tag": "ABX9TyOA2YWwN1+p7j3b+Xaf0cAD",
      "include_colab_link": true
    },
    "kernelspec": {
      "name": "python3",
      "display_name": "Python 3"
    },
    "language_info": {
      "name": "python"
    }
  },
  "cells": [
    {
      "cell_type": "markdown",
      "metadata": {
        "id": "view-in-github",
        "colab_type": "text"
      },
      "source": [
        "<a href=\"https://colab.research.google.com/github/stinh/games/blob/main/Monty_Hall_Problem.ipynb\" target=\"_parent\"><img src=\"https://colab.research.google.com/assets/colab-badge.svg\" alt=\"Open In Colab\"/></a>"
      ]
    },
    {
      "cell_type": "code",
      "execution_count": 7,
      "metadata": {
        "id": "cqHEhN8iavsq"
      },
      "outputs": [],
      "source": [
        "import random"
      ]
    },
    {
      "cell_type": "markdown",
      "source": [
        "準備三個門"
      ],
      "metadata": {
        "id": "fHlDmH9eIaO1"
      }
    },
    {
      "cell_type": "code",
      "source": [
        "doors = [\"羊\", \"羊\"]\n",
        "c = random.randint(0, 2)\n",
        "doors.insert(c, \"車\")\n",
        "print(doors)"
      ],
      "metadata": {
        "colab": {
          "base_uri": "https://localhost:8080/"
        },
        "id": "2RAEZ31fIIbp",
        "outputId": "0d232651-c4ba-4a8d-a244-bf2131ef5036"
      },
      "execution_count": 8,
      "outputs": [
        {
          "output_type": "stream",
          "name": "stdout",
          "text": [
            "['羊', '羊', '車']\n"
          ]
        }
      ]
    },
    {
      "cell_type": "markdown",
      "source": [
        "讓參賽者選門"
      ],
      "metadata": {
        "id": "7ScRMjJwInOm"
      }
    },
    {
      "cell_type": "code",
      "source": [
        "c = random.randint(0, 2)\n",
        "print(\"參賽者選的門：\",doors[c])\n",
        "del doors[c]\n",
        "print(\"剩下的門：\",doors)"
      ],
      "metadata": {
        "colab": {
          "base_uri": "https://localhost:8080/"
        },
        "id": "Zlq99gZoIlyo",
        "outputId": "fbc02b6b-283b-4013-aee2-eedc1bc68efe"
      },
      "execution_count": 9,
      "outputs": [
        {
          "output_type": "stream",
          "name": "stdout",
          "text": [
            "參賽者選的門： 羊\n",
            "剩下的門： ['羊', '車']\n"
          ]
        }
      ]
    },
    {
      "cell_type": "markdown",
      "source": [
        "主持人開出一隻羊"
      ],
      "metadata": {
        "id": "TmdNcIu4JTXa"
      }
    },
    {
      "cell_type": "code",
      "source": [
        "doors.remove(\"羊\")\n",
        "print(\"最後剩下的門：\",doors)"
      ],
      "metadata": {
        "colab": {
          "base_uri": "https://localhost:8080/"
        },
        "id": "QYyND6coI16I",
        "outputId": "347a52af-4065-455e-b148-c9862e955217"
      },
      "execution_count": 10,
      "outputs": [
        {
          "output_type": "stream",
          "name": "stdout",
          "text": [
            "最後剩下的門： ['車']\n"
          ]
        }
      ]
    },
    {
      "cell_type": "markdown",
      "source": [
        "判斷結果"
      ],
      "metadata": {
        "id": "igp2yVFxJfin"
      }
    },
    {
      "cell_type": "code",
      "source": [
        "if doors[0] == \"車\":\n",
        "  print(\"參賽者[贏了]\")\n",
        "else:\n",
        "  print(\"參賽者[輸了]\")"
      ],
      "metadata": {
        "colab": {
          "base_uri": "https://localhost:8080/"
        },
        "id": "1LBUgznXJh0y",
        "outputId": "51c60f16-2054-4ccb-e150-729d0d6d00b7"
      },
      "execution_count": 11,
      "outputs": [
        {
          "output_type": "stream",
          "name": "stdout",
          "text": [
            "參賽者[贏了]\n"
          ]
        }
      ]
    },
    {
      "cell_type": "markdown",
      "source": [
        "*用迴圈，玩N次，看輸贏機率*"
      ],
      "metadata": {
        "id": "R_Tdq-I2Kin3"
      }
    },
    {
      "cell_type": "code",
      "source": [
        "import random\n",
        "win = 0\n",
        "lose = 0\n",
        "for times in range(0, 100000):\n",
        "  doors = [\"羊\", \"羊\"]\n",
        "  c = random.randint(0, 2)\n",
        "  doors.insert(c, \"車\")\n",
        "  # print(doors)\n",
        "\n",
        "  c = random.randint(0, 2)\n",
        "  # print(\"參賽者選的門：\",doors[c])\n",
        "  del doors[c]\n",
        "  # print(\"剩下的門：\",doors)\n",
        "\n",
        "  doors.remove(\"羊\")\n",
        "  # print(\"最後剩下的門：\",doors)\n",
        "\n",
        "  if doors[0] == \"車\":\n",
        "    win+= 1\n",
        "    # print(\"參賽者[贏了]\")\n",
        "  else:\n",
        "    lose+= 1\n",
        "    # print(\"參賽者[輸了]\")\n",
        "\n",
        "print(\"贏的次數：\", win)\n",
        "print(\"輸的次數：\", lose)\n",
        "\n",
        "total = win + lose\n",
        "print(\"贏的機率：\", win / total * 100, \"%\")\n",
        "print(\"輸的機率：\", lose / total * 100, \"%\")"
      ],
      "metadata": {
        "colab": {
          "base_uri": "https://localhost:8080/"
        },
        "id": "DNgLQG_zKh1J",
        "outputId": "033431f8-4700-4e1b-fbe3-d5c6fb4e0071"
      },
      "execution_count": 15,
      "outputs": [
        {
          "output_type": "stream",
          "name": "stdout",
          "text": [
            "贏的次數： 66704\n",
            "輸的次數： 33296\n",
            "贏的機率： 66.704 %\n",
            "輸的機率： 33.296 %\n"
          ]
        }
      ]
    }
  ]
}